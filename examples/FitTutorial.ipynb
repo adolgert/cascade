{
 "cells": [
  {
   "cell_type": "markdown",
   "metadata": {},
   "source": [
    "# Fit Tutorial\n",
    "Demonstrates performing a fit to a single-parameter model.\n",
    "This generates a synthetic mortality rate and then\n",
    "fits that mortality.\n",
    "\n",
    "The first step is to load all the libraries. This requires\n",
    "having all of these libraries installed, including\n",
    "both Cascade and Dismod-AT in a Docker container."
   ]
  },
  {
   "cell_type": "code",
   "execution_count": 1,
   "metadata": {},
   "outputs": [],
   "source": [
    "import matplotlib\n",
    "import numpy as np\n",
    "import matplotlib.pyplot as plt\n",
    "%matplotlib inline\n",
    "import matplotlib.gridspec as gridspec\n",
    "from math import nan, inf\n",
    "from pathlib import Path\n",
    "import numpy as np\n",
    "import pandas as pd\n",
    "import pytest\n",
    "\n",
    "import matplotlib.pyplot as plt\n",
    "# Make the plots bigger.\n",
    "plt.rcParams['figure.figsize'] = [10, 8]\n",
    "\n",
    "# These are all of the classes we need from Cascade-AT.\n",
    "from cascade.model import (\n",
    "    Session, Model, DismodGroups, SmoothGrid, Var, Covariate,\n",
    "    Uniform, Gaussian\n",
    ")\n",
    "from cascade.stats.compartmental import siler_default, total_mortality_solution"
   ]
  },
  {
   "cell_type": "code",
   "execution_count": 2,
   "metadata": {},
   "outputs": [
    {
     "name": "stdout",
     "output_type": "stream",
     "text": [
      "Mortality as a function of age, at 0 0.2032 and at 20 0.0045\n"
     ]
    }
   ],
   "source": [
    "# Use Siler mortality as our known true. This is a function of age,\n",
    "# as presented, but it's defined over ages and times.\n",
    "mortality = siler_default()\n",
    "print(f\"Mortality as a function of age, \"\n",
    "      f\"at 0 {mortality(0):.4f} and at 20 {mortality(20):.4f}\")"
   ]
  },
  {
   "cell_type": "markdown",
   "metadata": {},
   "source": [
    "Dismod-AT is a random effects model where the micro-level is the data and the macro-level\n",
    "is the location where that data was observed. Dismod-AT assumes the locations\n",
    "form a hierarchy and that, for any fit or predict, there is one parent\n",
    "location. All data measured within the children of that parent location\n",
    "will be included in the fit.\n",
    "\n",
    "Specify locations as a Pandas DataFrame with columns for the name, location id as an integer, and the parent location as an integer. The name is purely cosmetic."
   ]
  },
  {
   "cell_type": "code",
   "execution_count": 3,
   "metadata": {},
   "outputs": [],
   "source": [
    "parent_location = 1\n",
    "locations = pd.DataFrame(dict(\n",
    "    name=[\"global\"],\n",
    "    parent_id=[nan],\n",
    "    location_id=[parent_location],\n",
    "))"
   ]
  },
  {
   "cell_type": "markdown",
   "metadata": {},
   "source": [
    "## Make Data Using Dismod-AT Predict\n",
    "The siler distribution is the theoretically-known rate.\n",
    "Use the Dismod-AT predict function to create integrands\n",
    "such as prevalence, with-condition, or mtother, from this\n",
    "base rate.\n",
    "\n",
    "The input to Dismod-AT Predict is a representation of\n",
    "a continuous rate as an interpolation on a grid. Make a grid\n",
    "that has yearly age points and is defined for one year in time.\n",
    "The way Dismod-AT handles interpolation, all times outside\n",
    "the bounds of the grid points are constant at the nearest\n",
    "grid point value, so this means the rate is constant in time\n",
    "across all times, but still varies by age."
   ]
  },
  {
   "cell_type": "code",
   "execution_count": 5,
   "metadata": {},
   "outputs": [],
   "source": [
    "age_points = 121\n",
    "omega = Var(np.linspace(0, 120, age_points), [2000])\n",
    "for age, time in omega.age_time():\n",
    "    omega[age, time] = mortality(age)"
   ]
  },
  {
   "cell_type": "markdown",
   "metadata": {},
   "source": [
    "While this model has only one rate, Dismod-AT models can have five rates.\n",
    "We put this rate into a larger structure, called a `DismodGroups`,\n",
    "so that it knows which rate we're giving it."
   ]
  },
  {
   "cell_type": "code",
   "execution_count": 6,
   "metadata": {},
   "outputs": [],
   "source": [
    "model_variables = DismodGroups()\n",
    "model_variables.rate[\"omega\"] = omega"
   ]
  },
  {
   "cell_type": "markdown",
   "metadata": {},
   "source": [
    "Dismod-AT predict calculates values of integrands at different ages\n",
    "and times. We need to tell it what we want it to calculate.\n",
    "This looks a lot like how we specify data to a Dismod-AT fit.\n",
    "This example asks for the fraction of susceptibles\n",
    "and for mtother, which should be exactly the rate we put in\n",
    "as omega, given that the lower and upper ages are the same\n",
    "and lower and upper times are the same."
   ]
  },
  {
   "cell_type": "code",
   "execution_count": 7,
   "metadata": {},
   "outputs": [],
   "source": [
    "data_cnt = 60\n",
    "avgints = pd.DataFrame(dict(\n",
    "    integrand=\"susceptible\",\n",
    "    location=parent_location,\n",
    "    age_lower=np.linspace(0, 120, data_cnt),\n",
    "    age_upper=np.linspace(0, 120, data_cnt),\n",
    "    time_lower=2000,\n",
    "    time_upper=2000,\n",
    "))\n",
    "avgints = pd.concat([avgints, avgints.assign(integrand=\"mtother\")])"
   ]
  },
  {
   "cell_type": "markdown",
   "metadata": {},
   "source": [
    "Those are the inputs for running Dismod-AT predict. The next\n",
    "step is to start a Dismod-AT session and run predict.\n",
    "A Dismod-AT session communicates with Dismod-AT running underneath."
   ]
  },
  {
   "cell_type": "code",
   "execution_count": 8,
   "metadata": {},
   "outputs": [],
   "source": [
    "session = Session(locations, parent_location, Path(\"fit0.db\"))\n",
    "session.set_option(ode_step_size=1)"
   ]
  },
  {
   "cell_type": "markdown",
   "metadata": {},
   "source": [
    "Note the `ode_step_size=1`. This is the step size for predict.\n",
    "We can play with this to understand how step size affects\n",
    "fit accuracy, because a Dismod-AT fit is built upon\n",
    "running predict over and over again during optimization.\n",
    "\n",
    "Prediction returns two sets of data, the data points\n",
    "requested and those that *could not be predicted*\n",
    "because they were associated with covariates that are\n",
    "outliered. No such covariates are in this model, so\n",
    "that list will be empty."
   ]
  },
  {
   "cell_type": "code",
   "execution_count": 9,
   "metadata": {},
   "outputs": [
    {
     "name": "stdout",
     "output_type": "stream",
     "text": [
      "Predicted outcome with columns predict_id, sample_index, avg_integrand, location, integrand, age_lower, age_upper, time_lower, time_upper\n"
     ]
    }
   ],
   "source": [
    "predicted, not_predicted = session.predict(model_variables, avgints, parent_location)\n",
    "assert not_predicted.empty and not predicted.empty\n",
    "print(f\"Predicted outcome with columns {', '.join(str(pc) for pc in predicted.columns)}\")"
   ]
  },
  {
   "cell_type": "markdown",
   "metadata": {},
   "source": [
    "The predictions are a Pandas DataFrame with the columns shown. They will\n",
    "match the avgints, so there are two sets of outcomes in this case,\n",
    "mtother and susceptibles. This is now our data.\n",
    "\n",
    "Let's fit that data. This entails making a Model and setting its\n",
    "priors."
   ]
  },
  {
   "cell_type": "code",
   "execution_count": 11,
   "metadata": {},
   "outputs": [],
   "source": [
    "nonzero_rates = [\"omega\"]\n",
    "model = Model(nonzero_rates, parent_location)\n",
    "model.rate[\"omega\"] = SmoothGrid(np.linspace(0, 120, age_points), [2000])\n",
    "for a, t, dage, dtime in model.rate[\"omega\"].age_time_diff():\n",
    "        target = omega(a, t)\n",
    "        model.rate[\"omega\"].value[a, t] = Uniform(mean=target, upper=target + 5, lower=0)\n",
    "        model.rate[\"omega\"].dage[a, t] = Gaussian(mean=0, standard_deviation=50, lower=-5, upper=5)\n",
    "        model.rate[\"omega\"].dtime[a, t] = Gaussian(mean=0, standard_deviation=0.1, lower=-5, upper=5)"
   ]
  },
  {
   "cell_type": "markdown",
   "metadata": {},
   "source": [
    "That's the whole model. We could set the standard deviation on the\n",
    "age-difference priors from the forward age difference if we wanted,\n",
    "but it's enough to let them have a very large standard deviation.\n",
    "\n",
    "While that was 8 lines, the output of predict needs some\n",
    "help to look like input data."
   ]
  },
  {
   "cell_type": "code",
   "execution_count": 17,
   "metadata": {},
   "outputs": [],
   "source": [
    "data = predicted.drop(columns=[\"sample_index\", \"predict_id\"]) \\\n",
    "    .rename(columns={\"avg_integrand\": \"mean\"})\n",
    "data = data.assign(density=\"gaussian\", std=0.3, eta=1e-4, nu=nan)\n",
    "\n",
    "# It doesn't matter when the times are, because the system is constant\n",
    "# across time.\n",
    "data.loc[:, \"time_lower\"] = np.random.randint(1990, 2015, size=len(data))\n",
    "# We can add some range to ages and times if we want.\n",
    "add_some_range_to_times = 0\n",
    "add_size = add_some_range_to_times * np.random.random(size=len(data))\n",
    "data.loc[:, \"time_upper\"] = data.loc[:, \"time_lower\"] + add_size\n",
    "\n",
    "# Want to intentionally take a data range and make it wrong?\n",
    "mess_factor = 1  # 1 means leave it alone.\n",
    "data.loc[(data.age_lower > 20) & (data.age_lower < 40) & (data.integrand == \"mtother\"), \"mean\"] = \\\n",
    "    mess_factor * data.loc[(data.age_lower > 20) & (data.age_lower < 40), \"mean\"]"
   ]
  },
  {
   "cell_type": "markdown",
   "metadata": {},
   "source": [
    "That's all the parts for a fit: model with priors and data."
   ]
  },
  {
   "cell_type": "code",
   "execution_count": 18,
   "metadata": {},
   "outputs": [],
   "source": [
    "result = session.fit(model, data, initial_guess=model_variables)\n",
    "fit_omega = result.fit.rate[\"omega\"]"
   ]
  },
  {
   "cell_type": "markdown",
   "metadata": {},
   "source": [
    "The resulting fit contains several parts.\n",
    "\n",
    " * `fit` - This has the same structure as the `model_variables` above.\n",
    " * `prior_residuals` - These are residuals and lagrange values for all priors.\n",
    " * `data_residuals` - Residuals on the input data uncertainty.\n",
    " * `fit_data` - The data that was included in the fit.\n",
    " * `excluded_data` - Which data was excluded from the fit, due to being\n",
    "   held out or having covariates that are outliered.\n",
    "   \n",
    "The value residuals should be small, unless we intentionally\n",
    "skewed the other-cause mortality with `mess_factor`."
   ]
  },
  {
   "cell_type": "code",
   "execution_count": 19,
   "metadata": {},
   "outputs": [],
   "source": [
    "value_residuals = list()\n",
    "for age, time in fit_omega.age_time():\n",
    "    value_residuals.append([age, float(fit_omega[age, time] - omega[age, time])])\n",
    "# Makes an age column and a time column.\n",
    "value_residuals = np.array(value_residuals).T"
   ]
  },
  {
   "cell_type": "code",
   "execution_count": 20,
   "metadata": {},
   "outputs": [],
   "source": [
    "def plot_mortality(continuous_mortality, result, data, value_residuals):\n",
    "    fig = plt.figure(tight_layout=True)\n",
    "    gs = gridspec.GridSpec(2, 2)\n",
    "\n",
    "    ax = fig.add_subplot(gs[0, 0])\n",
    "    x = np.linspace(0, 120, 241)\n",
    "    slabel, = ax.plot(x, continuous_mortality(x), label=\"siler\")\n",
    "    omega_fit = result.fit.rate[\"omega\"]\n",
    "    flabel, = ax.plot(x, omega_fit(x, 2000), label=\"fit\")\n",
    "    mtother_data = data[data.integrand == \"mtother\"]\n",
    "    dlabel = ax.scatter(mtother_data.age_lower.values, mtother_data[\"mean\"].values, label=\"data\")\n",
    "    ax.legend(handles=[slabel, flabel, dlabel])\n",
    "    ax.set_xlim([0, 70])\n",
    "    ax.set_ylim([0, .2])\n",
    "    ax.set_xlabel(\"age\")\n",
    "    ax.set_ylabel(\"rate\")\n",
    "\n",
    "    ax01 = fig.add_subplot(gs[0, 1])\n",
    "    ax01.scatter(value_residuals[0], value_residuals[1])\n",
    "    ax01.set_xlabel(\"age\")\n",
    "    ax01.set_ylabel(\"absolute residual\")\n",
    "\n",
    "    ax10 = fig.add_subplot(gs[1, 0])\n",
    "    xkids = np.linspace(0, 20, 50)\n",
    "    slabel, = ax10.plot(xkids, mortality(xkids), label=\"siler\")\n",
    "    # olabel, = ax10.plot(xkids, omega(xkids, 2000), label=\"omega\")\n",
    "    omega_fit = result.fit.rate[\"omega\"]\n",
    "    flabel, = ax10.plot(xkids, omega_fit(xkids, 2000), label=\"fit\")\n",
    "    ax10.legend(handles=[slabel, flabel])\n",
    "    # ax.set_xlim([0, 70])\n",
    "    # ax.set_ylim([0, .2])\n",
    "    ax10.set_xlabel(\"age\")\n",
    "    ax10.set_ylabel(\"rate\")\n",
    "\n",
    "    ax11 = fig.add_subplot(gs[1, 1])\n",
    "    ax11.scatter(value_residuals[0][:5], value_residuals[1][:5])\n",
    "    ax11.set_xlabel(\"age\")\n",
    "    ax11.set_ylabel(\"absolute residual\")\n",
    "\n",
    "    plt.show()"
   ]
  },
  {
   "cell_type": "code",
   "execution_count": 16,
   "metadata": {},
   "outputs": [
    {
     "name": "stderr",
     "output_type": "stream",
     "text": [
      "/home/adolgert/.local/share/virtualenvs/cascade-f6I11cmg/lib/python3.6/site-packages/matplotlib/figure.py:2359: UserWarning: This figure includes Axes that are not compatible with tight_layout, so results might be incorrect.\n",
      "  warnings.warn(\"This figure includes Axes that are not compatible \"\n"
     ]
    },
    {
     "data": {
      "image/png": "[encoded data removed]",
      "text/plain": [
       "<Figure size 432x288 with 4 Axes>"
      ]
     },
     "metadata": {
      "needs_background": "light"
     },
     "output_type": "display_data"
    }
   ],
   "source": [
    "plot_mortality(mortality, result, data, value_residuals)"
   ]
  },
  {
   "cell_type": "code",
   "execution_count": null,
   "metadata": {},
   "outputs": [],
   "source": []
  }
 ],
 "metadata": {
  "kernelspec": {
   "display_name": "Python 3",
   "language": "python",
   "name": "python3"
  },
  "language_info": {
   "codemirror_mode": {
    "name": "ipython",
    "version": 3
   },
   "file_extension": ".py",
   "mimetype": "text/x-python",
   "name": "python",
   "nbconvert_exporter": "python",
   "pygments_lexer": "ipython3",
   "version": "3.6.3"
  }
 },
 "nbformat": 4,
 "nbformat_minor": 2
}
